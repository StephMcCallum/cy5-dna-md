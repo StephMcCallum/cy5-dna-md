{
 "cells": [
  {
   "cell_type": "markdown",
   "id": "1cb86222-1258-4f0a-b21e-fb1324b57c1d",
   "metadata": {},
   "source": [
    "## Loading a United-atom cy5 representation into mbuild"
   ]
  },
  {
   "cell_type": "code",
   "execution_count": 1,
   "id": "86a0a551-a4df-4664-b230-63c0b6577256",
   "metadata": {
    "scrolled": true
   },
   "outputs": [
    {
     "name": "stderr",
     "output_type": "stream",
     "text": [
      "/Users/stephaniemccallum/miniforge3/envs/flowermd-dev/lib/python3.12/site-packages/gmso/core/element.py:10: UserWarning: pkg_resources is deprecated as an API. See https://setuptools.pypa.io/en/latest/pkg_resources.html. The pkg_resources package is slated for removal as early as 2025-11-30. Refrain from using this package or pin to Setuptools<81.\n",
      "  from pkg_resources import resource_filename\n"
     ]
    }
   ],
   "source": [
    "import numpy as np\n",
    "import mbuild as mb"
   ]
  },
  {
   "cell_type": "code",
   "execution_count": 2,
   "id": "52fd0a7c-35af-43b2-874f-a6b52fc03d65",
   "metadata": {},
   "outputs": [
    {
     "name": "stderr",
     "output_type": "stream",
     "text": [
      "/Users/stephaniemccallum/miniforge3/envs/flowermd-dev/lib/python3.12/site-packages/mbuild/compound.py:546: UserWarning: Some particle of <Compound 58 particles, 61 bonds, non-periodic, id: 6256924272> does not have a charge.They will not be accounted for during this calculation.\n",
      "  warn(\n"
     ]
    },
    {
     "data": {
      "application/3dmoljs_load.v0": "<div id=\"3dmolviewer_1755284904237875\"  style=\"position: relative; width: 640px; height: 480px;\">\n        <p id=\"3dmolwarning_1755284904237875\" style=\"background-color:#ffcccc;color:black\">3Dmol.js failed to load for some reason.  Please check your browser console for error messages.<br></p>\n        </div>\n<script>\n\nvar loadScriptAsync = function(uri){\n  return new Promise((resolve, reject) => {\n    //this is to ignore the existence of requirejs amd\n    var savedexports, savedmodule;\n    if (typeof exports !== 'undefined') savedexports = exports;\n    else exports = {}\n    if (typeof module !== 'undefined') savedmodule = module;\n    else module = {}\n\n    var tag = document.createElement('script');\n    tag.src = uri;\n    tag.async = true;\n    tag.onload = () => {\n        exports = savedexports;\n        module = savedmodule;\n        resolve();\n    };\n  var firstScriptTag = document.getElementsByTagName('script')[0];\n  firstScriptTag.parentNode.insertBefore(tag, firstScriptTag);\n});\n};\n\nif(typeof $3Dmolpromise === 'undefined') {\n$3Dmolpromise = null;\n  $3Dmolpromise = loadScriptAsync('https://cdn.jsdelivr.net/npm/3dmol@2.5.1/build/3Dmol-min.js');\n}\n\nvar viewer_1755284904237875 = null;\nvar warn = document.getElementById(\"3dmolwarning_1755284904237875\");\nif(warn) {\n    warn.parentNode.removeChild(warn);\n}\n$3Dmolpromise.then(function() {\nviewer_1755284904237875 = $3Dmol.createViewer(document.getElementById(\"3dmolviewer_1755284904237875\"),{backgroundColor:\"white\"});\nviewer_1755284904237875.zoomTo();\n\tviewer_1755284904237875.addModel(\"@<TRIPOS>MOLECULE\\nRES\\n58 61 1 0 1\\nSMALL\\nNO_CHARGES\\n@<TRIPOS>CRYSIN\\n   19.4130    13.3240    17.3670    90.0000    90.0000    90.0000 1 1\\n@<TRIPOS>ATOM\\n       1 C1           3.1400   -35.3380     6.9740 C1            1 RES     \\n       2 C6           4.3690   -34.9040     6.4460 C6            1 RES     \\n       3 C5           4.3490   -34.1620     5.2510 C5            1 RES     \\n       4 C4           3.1570   -33.8600     4.6140 C4            1 RES     \\n       5 C3           1.9270   -34.2940     5.1420 C3            1 RES     \\n       6 H3           0.9800   -34.0380     4.6540 H3            1 RES     \\n       7 N1           3.3910   -33.1310     3.4920 N1            1 RES     \\n       8 C21          2.2970   -32.6760     2.6150 C21           1 RES     \\n       9 H18          2.6480   -32.4630     1.6110 H18           1 RES     \\n      10 H20          1.5210   -33.4370     2.5400 H20           1 RES     \\n      11 C29          4.7690   -32.8910     3.3400 C29           1 RES     \\n      12 C7           5.5340   -33.5700     4.4990 C7            1 RES     \\n      13 C8           6.4720   -34.7030     4.0200 C8            1 RES     \\n      14 H5           6.8950   -35.2350     4.8740 H5            1 RES     \\n      15 H6           5.9230   -35.4250     3.4180 H6            1 RES     \\n      16 H7           7.2920   -34.3150     3.4210 H7            1 RES     \\n      17 C28          6.2880   -32.5720     5.4000 C28           1 RES     \\n      18 H31          5.6000   -31.8030     5.7690 H31           1 RES     \\n      19 H32          6.7040   -33.0850     6.2690 H32           1 RES     \\n      20 H33          7.1020   -32.0770     4.8770 H33           1 RES     \\n      21 C9           5.3750   -32.1410     2.2340 C9            1 RES     \\n      22 C10          6.6700   -31.8560     2.0140 C10           1 RES     \\n      23 H9           7.4250   -32.1740     2.7150 H9            1 RES     \\n      24 C32          7.1440   -31.1500     0.8350 C32           1 RES     \\n      25 H41          6.3790   -30.9310     0.0830 H41           1 RES     \\n      26 C33          8.4070   -30.7870     0.5590 C33           1 RES     \\n      27 C11          8.7850   -30.1430    -0.6900 C11           1 RES     \\n      28 C18         10.0170   -29.7240    -1.0780 C18           1 RES     \\n      29 N2          10.2350   -29.1340    -2.2920 N2            1 RES     \\n      30 C15         11.5550   -28.8230    -2.4910 C15           1 RES     \\n      31 C14         12.1870   -28.2360    -3.5930 C14           1 RES     \\n      32 C13         13.5790   -28.0300    -3.5410 C13           1 RES     \\n      33 C12         14.3130   -28.4200    -2.4020 C12           1 RES     \\n      34 C17         13.6700   -29.0050    -1.3070 C17           1 RES     \\n      35 C16         12.2790   -29.2060    -1.3720 C16           1 RES     \\n      36 C19         11.3580   -29.7970    -0.3230 C19           1 RES     \\n      37 C20         11.7810   -31.2330     0.0340 C20           1 RES     \\n      38 H15         11.6880   -31.8770    -0.8350 H15           1 RES     \\n      39 H16         11.1760   -31.6460     0.8430 H16           1 RES     \\n      40 H17         12.8260   -31.2540     0.3570 H17           1 RES     \\n      41 C30         11.3720   -28.8850     0.9070 C30           1 RES     \\n      42 H34         11.1930   -27.8530     0.6070 H34           1 RES     \\n      43 H35         10.5980   -29.1710     1.6170 H35           1 RES     \\n      44 H36         12.3410   -28.9150     1.4170 H36           1 RES     \\n      45 H14         14.2330   -29.3000    -0.4190 H14           1 RES     \\n      46 H11         15.3930   -28.2540    -2.3820 H11           1 RES     \\n      47 H12         14.0820   -27.5780    -4.3920 H12           1 RES     \\n      48 H13         11.6340   -27.9270    -4.4660 H13           1 RES     \\n      49 C22          9.2310   -28.8070    -3.3070 C22           1 RES     \\n      50 H21          9.6920   -28.6900    -4.2830 H21           1 RES     \\n      51 H22          8.5140   -29.6310    -3.3850 H22           1 RES     \\n      52 H10          7.9400   -29.9940    -1.3510 H10           1 RES     \\n      53 H42          9.1730   -30.9850     1.3040 H42           1 RES     \\n      54 H8           4.6650   -31.7730     1.4990 H8            1 RES     \\n      55 H4           5.3060   -35.1340     6.9430 H4            1 RES     \\n      56 H1           3.1330   -35.9020     7.9010 H1            1 RES     \\n      57 C2           1.9310   -35.0310     6.3370 C2            1 RES     \\n      58 H2           0.9880   -35.3660     6.7650 H2            1 RES     \\n@<TRIPOS>BOND\\n       1        1        2 1\\n       2        1       56 1\\n       3        1       57 1\\n       4        2        3 1\\n       5        2       55 1\\n       6        3        4 1\\n       7        3       12 1\\n       8        4        5 1\\n       9        4        7 1\\n      10        5        6 1\\n      11        5       57 1\\n      12        7        8 1\\n      13        7       11 1\\n      14        8        9 1\\n      15        8       10 1\\n      16       11       12 1\\n      17       11       21 1\\n      18       12       13 1\\n      19       12       17 1\\n      20       13       14 1\\n      21       13       15 1\\n      22       13       16 1\\n      23       17       18 1\\n      24       17       19 1\\n      25       17       20 1\\n      26       21       22 1\\n      27       21       54 1\\n      28       22       23 1\\n      29       22       24 1\\n      30       24       25 1\\n      31       24       26 1\\n      32       26       27 1\\n      33       26       53 1\\n      34       27       28 1\\n      35       27       52 1\\n      36       28       29 1\\n      37       28       36 1\\n      38       29       30 1\\n      39       29       49 1\\n      40       30       31 1\\n      41       30       35 1\\n      42       31       32 1\\n      43       31       48 1\\n      44       32       33 1\\n      45       32       47 1\\n      46       33       34 1\\n      47       33       46 1\\n      48       34       35 1\\n      49       34       45 1\\n      50       35       36 1\\n      51       36       37 1\\n      52       36       41 1\\n      53       37       38 1\\n      54       37       39 1\\n      55       37       40 1\\n      56       41       42 1\\n      57       41       43 1\\n      58       41       44 1\\n      59       49       50 1\\n      60       49       51 1\\n      61       57       58 1\\n@<TRIPOS>SUBSTRUCTURE\\n       1 RES             1 RESIDUE    0 **** ROOT      0\\n\",\"mol2\");\n\tviewer_1755284904237875.setStyle({\"stick\": {\"radius\": 0.18, \"color\": \"grey\"}, \"sphere\": {\"scale\": 0.3, \"colorscheme\": {}}});\n\tviewer_1755284904237875.zoomTo();\nviewer_1755284904237875.render();\n});\n</script>",
      "text/html": [
       "<div id=\"3dmolviewer_1755284904237875\"  style=\"position: relative; width: 640px; height: 480px;\">\n",
       "        <p id=\"3dmolwarning_1755284904237875\" style=\"background-color:#ffcccc;color:black\">3Dmol.js failed to load for some reason.  Please check your browser console for error messages.<br></p>\n",
       "        </div>\n",
       "<script>\n",
       "\n",
       "var loadScriptAsync = function(uri){\n",
       "  return new Promise((resolve, reject) => {\n",
       "    //this is to ignore the existence of requirejs amd\n",
       "    var savedexports, savedmodule;\n",
       "    if (typeof exports !== 'undefined') savedexports = exports;\n",
       "    else exports = {}\n",
       "    if (typeof module !== 'undefined') savedmodule = module;\n",
       "    else module = {}\n",
       "\n",
       "    var tag = document.createElement('script');\n",
       "    tag.src = uri;\n",
       "    tag.async = true;\n",
       "    tag.onload = () => {\n",
       "        exports = savedexports;\n",
       "        module = savedmodule;\n",
       "        resolve();\n",
       "    };\n",
       "  var firstScriptTag = document.getElementsByTagName('script')[0];\n",
       "  firstScriptTag.parentNode.insertBefore(tag, firstScriptTag);\n",
       "});\n",
       "};\n",
       "\n",
       "if(typeof $3Dmolpromise === 'undefined') {\n",
       "$3Dmolpromise = null;\n",
       "  $3Dmolpromise = loadScriptAsync('https://cdn.jsdelivr.net/npm/3dmol@2.5.1/build/3Dmol-min.js');\n",
       "}\n",
       "\n",
       "var viewer_1755284904237875 = null;\n",
       "var warn = document.getElementById(\"3dmolwarning_1755284904237875\");\n",
       "if(warn) {\n",
       "    warn.parentNode.removeChild(warn);\n",
       "}\n",
       "$3Dmolpromise.then(function() {\n",
       "viewer_1755284904237875 = $3Dmol.createViewer(document.getElementById(\"3dmolviewer_1755284904237875\"),{backgroundColor:\"white\"});\n",
       "viewer_1755284904237875.zoomTo();\n",
       "\tviewer_1755284904237875.addModel(\"@<TRIPOS>MOLECULE\\nRES\\n58 61 1 0 1\\nSMALL\\nNO_CHARGES\\n@<TRIPOS>CRYSIN\\n   19.4130    13.3240    17.3670    90.0000    90.0000    90.0000 1 1\\n@<TRIPOS>ATOM\\n       1 C1           3.1400   -35.3380     6.9740 C1            1 RES     \\n       2 C6           4.3690   -34.9040     6.4460 C6            1 RES     \\n       3 C5           4.3490   -34.1620     5.2510 C5            1 RES     \\n       4 C4           3.1570   -33.8600     4.6140 C4            1 RES     \\n       5 C3           1.9270   -34.2940     5.1420 C3            1 RES     \\n       6 H3           0.9800   -34.0380     4.6540 H3            1 RES     \\n       7 N1           3.3910   -33.1310     3.4920 N1            1 RES     \\n       8 C21          2.2970   -32.6760     2.6150 C21           1 RES     \\n       9 H18          2.6480   -32.4630     1.6110 H18           1 RES     \\n      10 H20          1.5210   -33.4370     2.5400 H20           1 RES     \\n      11 C29          4.7690   -32.8910     3.3400 C29           1 RES     \\n      12 C7           5.5340   -33.5700     4.4990 C7            1 RES     \\n      13 C8           6.4720   -34.7030     4.0200 C8            1 RES     \\n      14 H5           6.8950   -35.2350     4.8740 H5            1 RES     \\n      15 H6           5.9230   -35.4250     3.4180 H6            1 RES     \\n      16 H7           7.2920   -34.3150     3.4210 H7            1 RES     \\n      17 C28          6.2880   -32.5720     5.4000 C28           1 RES     \\n      18 H31          5.6000   -31.8030     5.7690 H31           1 RES     \\n      19 H32          6.7040   -33.0850     6.2690 H32           1 RES     \\n      20 H33          7.1020   -32.0770     4.8770 H33           1 RES     \\n      21 C9           5.3750   -32.1410     2.2340 C9            1 RES     \\n      22 C10          6.6700   -31.8560     2.0140 C10           1 RES     \\n      23 H9           7.4250   -32.1740     2.7150 H9            1 RES     \\n      24 C32          7.1440   -31.1500     0.8350 C32           1 RES     \\n      25 H41          6.3790   -30.9310     0.0830 H41           1 RES     \\n      26 C33          8.4070   -30.7870     0.5590 C33           1 RES     \\n      27 C11          8.7850   -30.1430    -0.6900 C11           1 RES     \\n      28 C18         10.0170   -29.7240    -1.0780 C18           1 RES     \\n      29 N2          10.2350   -29.1340    -2.2920 N2            1 RES     \\n      30 C15         11.5550   -28.8230    -2.4910 C15           1 RES     \\n      31 C14         12.1870   -28.2360    -3.5930 C14           1 RES     \\n      32 C13         13.5790   -28.0300    -3.5410 C13           1 RES     \\n      33 C12         14.3130   -28.4200    -2.4020 C12           1 RES     \\n      34 C17         13.6700   -29.0050    -1.3070 C17           1 RES     \\n      35 C16         12.2790   -29.2060    -1.3720 C16           1 RES     \\n      36 C19         11.3580   -29.7970    -0.3230 C19           1 RES     \\n      37 C20         11.7810   -31.2330     0.0340 C20           1 RES     \\n      38 H15         11.6880   -31.8770    -0.8350 H15           1 RES     \\n      39 H16         11.1760   -31.6460     0.8430 H16           1 RES     \\n      40 H17         12.8260   -31.2540     0.3570 H17           1 RES     \\n      41 C30         11.3720   -28.8850     0.9070 C30           1 RES     \\n      42 H34         11.1930   -27.8530     0.6070 H34           1 RES     \\n      43 H35         10.5980   -29.1710     1.6170 H35           1 RES     \\n      44 H36         12.3410   -28.9150     1.4170 H36           1 RES     \\n      45 H14         14.2330   -29.3000    -0.4190 H14           1 RES     \\n      46 H11         15.3930   -28.2540    -2.3820 H11           1 RES     \\n      47 H12         14.0820   -27.5780    -4.3920 H12           1 RES     \\n      48 H13         11.6340   -27.9270    -4.4660 H13           1 RES     \\n      49 C22          9.2310   -28.8070    -3.3070 C22           1 RES     \\n      50 H21          9.6920   -28.6900    -4.2830 H21           1 RES     \\n      51 H22          8.5140   -29.6310    -3.3850 H22           1 RES     \\n      52 H10          7.9400   -29.9940    -1.3510 H10           1 RES     \\n      53 H42          9.1730   -30.9850     1.3040 H42           1 RES     \\n      54 H8           4.6650   -31.7730     1.4990 H8            1 RES     \\n      55 H4           5.3060   -35.1340     6.9430 H4            1 RES     \\n      56 H1           3.1330   -35.9020     7.9010 H1            1 RES     \\n      57 C2           1.9310   -35.0310     6.3370 C2            1 RES     \\n      58 H2           0.9880   -35.3660     6.7650 H2            1 RES     \\n@<TRIPOS>BOND\\n       1        1        2 1\\n       2        1       56 1\\n       3        1       57 1\\n       4        2        3 1\\n       5        2       55 1\\n       6        3        4 1\\n       7        3       12 1\\n       8        4        5 1\\n       9        4        7 1\\n      10        5        6 1\\n      11        5       57 1\\n      12        7        8 1\\n      13        7       11 1\\n      14        8        9 1\\n      15        8       10 1\\n      16       11       12 1\\n      17       11       21 1\\n      18       12       13 1\\n      19       12       17 1\\n      20       13       14 1\\n      21       13       15 1\\n      22       13       16 1\\n      23       17       18 1\\n      24       17       19 1\\n      25       17       20 1\\n      26       21       22 1\\n      27       21       54 1\\n      28       22       23 1\\n      29       22       24 1\\n      30       24       25 1\\n      31       24       26 1\\n      32       26       27 1\\n      33       26       53 1\\n      34       27       28 1\\n      35       27       52 1\\n      36       28       29 1\\n      37       28       36 1\\n      38       29       30 1\\n      39       29       49 1\\n      40       30       31 1\\n      41       30       35 1\\n      42       31       32 1\\n      43       31       48 1\\n      44       32       33 1\\n      45       32       47 1\\n      46       33       34 1\\n      47       33       46 1\\n      48       34       35 1\\n      49       34       45 1\\n      50       35       36 1\\n      51       36       37 1\\n      52       36       41 1\\n      53       37       38 1\\n      54       37       39 1\\n      55       37       40 1\\n      56       41       42 1\\n      57       41       43 1\\n      58       41       44 1\\n      59       49       50 1\\n      60       49       51 1\\n      61       57       58 1\\n@<TRIPOS>SUBSTRUCTURE\\n       1 RES             1 RESIDUE    0 **** ROOT      0\\n\",\"mol2\");\n",
       "\tviewer_1755284904237875.setStyle({\"stick\": {\"radius\": 0.18, \"color\": \"grey\"}, \"sphere\": {\"scale\": 0.3, \"colorscheme\": {}}});\n",
       "\tviewer_1755284904237875.zoomTo();\n",
       "viewer_1755284904237875.render();\n",
       "});\n",
       "</script>"
      ]
     },
     "metadata": {},
     "output_type": "display_data"
    }
   ],
   "source": [
    "dye = mb.load('../data/CY5-bonds.pdb')\n",
    "dye.visualize().show()"
   ]
  },
  {
   "cell_type": "markdown",
   "id": "193277fc-fe99-418d-827f-2a2fdba88614",
   "metadata": {},
   "source": [
    "## Loading cy5 into flowerMD Molecule"
   ]
  },
  {
   "cell_type": "code",
   "execution_count": 3,
   "id": "9a573197-98c0-4787-960f-300d2bebcb05",
   "metadata": {},
   "outputs": [],
   "source": [
    "from flowermd.base import Molecule, System"
   ]
  },
  {
   "cell_type": "code",
   "execution_count": 5,
   "id": "936dc11f-7430-4a20-bc84-480ad8ceeb57",
   "metadata": {},
   "outputs": [],
   "source": [
    "dye = Molecule(num_mols=2,file='../data/CY5-bonds.pdb')"
   ]
  },
  {
   "cell_type": "code",
   "execution_count": 8,
   "id": "0dee6255-4a23-4651-991e-db6069bcc3e2",
   "metadata": {},
   "outputs": [
    {
     "name": "stdout",
     "output_type": "stream",
     "text": [
      "<flowermd.base.molecule.Molecule object at 0x297bf5640> [<Compound 58 particles, 61 bonds, non-periodic, id: 11098527920>, <Compound 58 particles, 61 bonds, non-periodic, id: 11132975488>]\n"
     ]
    }
   ],
   "source": [
    "print(dye,dye.molecules)"
   ]
  },
  {
   "cell_type": "markdown",
   "id": "4c0a0d35-2eee-486f-83af-43a2291de6c2",
   "metadata": {},
   "source": [
    "## make a molecule class that add tethers to the linker sites and removes hydrogens for UA model"
   ]
  },
  {
   "cell_type": "code",
   "execution_count": null,
   "id": "4ca1f7b1-35d0-41a6-a3ca-b9aacdb9fb0f",
   "metadata": {},
   "outputs": [],
   "source": []
  },
  {
   "cell_type": "markdown",
   "id": "1b9e7424-f2fc-4564-b347-3c6794dd2478",
   "metadata": {},
   "source": [
    "TODO: write an initialization class based on system where we can control the placement of the dyes in a box."
   ]
  },
  {
   "cell_type": "markdown",
   "id": "cce28d63-e63e-49ba-a932-7b570f92f4ef",
   "metadata": {},
   "source": [
    "make each dye a rigid body from snapshot"
   ]
  },
  {
   "cell_type": "markdown",
   "id": "44c45b08-b63a-4576-9245-780b7c881960",
   "metadata": {},
   "source": [
    "apply forcefield and exclude tether particles"
   ]
  },
  {
   "cell_type": "markdown",
   "id": "3ee3914e-cb68-4be0-ad51-92ee79c6a10a",
   "metadata": {},
   "source": [
    "maybe: add wall and wall potential to restrict rotation of dyes"
   ]
  },
  {
   "cell_type": "code",
   "execution_count": null,
   "id": "8819ec60-e0b1-4327-84a0-83d28673d029",
   "metadata": {},
   "outputs": [],
   "source": []
  }
 ],
 "metadata": {
  "kernelspec": {
   "display_name": "Python 3 (ipykernel)",
   "language": "python",
   "name": "python3"
  },
  "language_info": {
   "codemirror_mode": {
    "name": "ipython",
    "version": 3
   },
   "file_extension": ".py",
   "mimetype": "text/x-python",
   "name": "python",
   "nbconvert_exporter": "python",
   "pygments_lexer": "ipython3",
   "version": "3.12.11"
  }
 },
 "nbformat": 4,
 "nbformat_minor": 5
}
